{
 "cells": [
  {
   "cell_type": "code",
   "execution_count": 3,
   "metadata": {},
   "outputs": [
    {
     "data": {
      "text/plain": [
       "'dc914e2f3f2eb2b5d8e9c3357a5e919dcd35fc3b'"
      ]
     },
     "execution_count": 3,
     "metadata": {},
     "output_type": "execute_result"
    }
   ],
   "source": [
    "from hashlib import sha1\n",
    "\n",
    "def compute_hash(email):\n",
    "    return sha1(email.lower().encode('utf-8')).hexdigest()\n",
    "  \n",
    "compute_hash(\"zioalex@gmail.com\")"
   ]
  },
  {
   "cell_type": "code",
   "execution_count": 1,
   "metadata": {},
   "outputs": [],
   "source": [
    "from hashlib import sha1\n",
    "\n",
    "def compute_hash(email):\n",
    "    return sha1(email.encode('utf-8')).hexdigest()\n",
    "\n",
    "def compute_certificate_id(email):\n",
    "    email_clean = email.lower().strip()\n",
    "    return compute_hash(email_clean + '_')\n",
    "  \n",
    "  "
   ]
  },
  {
   "cell_type": "code",
   "execution_count": 3,
   "metadata": {},
   "outputs": [],
   "source": [
    "your_id = compute_certificate_id(\"zioalex@gmail.com\")"
   ]
  },
  {
   "cell_type": "code",
   "execution_count": 5,
   "metadata": {},
   "outputs": [
    {
     "name": "stdout",
     "output_type": "stream",
     "text": [
      "https://certificate.datatalks.club/mlops-zoomcamp/2022/db0959f4328cc71b81f85f9e306f54a789474f7c.pdf\n"
     ]
    }
   ],
   "source": [
    "cohort = 2022\n",
    "course = 'mlops-zoomcamp'\n",
    "your_id = compute_certificate_id('zioalex@gmail.com')\n",
    "url = f\"https://certificate.datatalks.club/{course}/{cohort}/{your_id}.pdf\"\n",
    "print(url)"
   ]
  },
  {
   "cell_type": "code",
   "execution_count": 31,
   "metadata": {},
   "outputs": [],
   "source": [
    "from cgi import print_environ_usage\n",
    "\n",
    "\n",
    "def roman_to_arabic(roman):\n",
    "  print(roman)\n",
    "  mapping =  {'I': 1, 'V': 5, 'X': 10}\n",
    "  prev, arabic = 0, 0\n",
    "  for numeral in roman:\n",
    "    print(numeral,arabic)\n",
    "    arabic += mapping[numeral]\n",
    "    if mapping[numeral] > prev:\n",
    "      arabic -= 2*prev\n",
    "    prev = mapping[numeral]\n",
    "  return arabic"
   ]
  },
  {
   "cell_type": "code",
   "execution_count": 38,
   "metadata": {},
   "outputs": [
    {
     "name": "stdout",
     "output_type": "stream",
     "text": [
      "IIX\n",
      "I 0\n",
      "I 1\n",
      "X 2\n",
      "10\n"
     ]
    }
   ],
   "source": [
    "print(roman_to_arabic(\"IIX\"))"
   ]
  },
  {
   "cell_type": "code",
   "execution_count": 48,
   "metadata": {},
   "outputs": [],
   "source": [
    "def cumsum(a):\n",
    "  total = 0\n",
    "  for x in a:\n",
    "    total += x\n",
    "    yield(total)\n",
    "  \n",
    "    "
   ]
  },
  {
   "cell_type": "code",
   "execution_count": 49,
   "metadata": {},
   "outputs": [
    {
     "name": "stdout",
     "output_type": "stream",
     "text": [
      "[1, 3, 6]\n"
     ]
    }
   ],
   "source": [
    "print(list(cumsum([1,2,3])))"
   ]
  },
  {
   "cell_type": "code",
   "execution_count": null,
   "metadata": {},
   "outputs": [],
   "source": []
  }
 ],
 "metadata": {
  "kernelspec": {
   "display_name": "Python 3.9.12 ('base')",
   "language": "python",
   "name": "python3"
  },
  "language_info": {
   "codemirror_mode": {
    "name": "ipython",
    "version": 3
   },
   "file_extension": ".py",
   "mimetype": "text/x-python",
   "name": "python",
   "nbconvert_exporter": "python",
   "pygments_lexer": "ipython3",
   "version": "3.9.12"
  },
  "orig_nbformat": 4,
  "vscode": {
   "interpreter": {
    "hash": "fa96c1ee0c16e1dbb395e81749f4db7bf4c4723a8330d83dc333106b7f8fee37"
   }
  }
 },
 "nbformat": 4,
 "nbformat_minor": 2
}
